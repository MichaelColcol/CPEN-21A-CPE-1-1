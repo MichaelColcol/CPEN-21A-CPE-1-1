{
  "nbformat": 4,
  "nbformat_minor": 0,
  "metadata": {
    "colab": {
      "name": "Lab1.ipynb",
      "provenance": [],
      "authorship_tag": "ABX9TyM6lHo5wlzAQSCciolD3nnn",
      "include_colab_link": true
    },
    "kernelspec": {
      "name": "python3",
      "display_name": "Python 3"
    },
    "language_info": {
      "name": "python"
    }
  },
  "cells": [
    {
      "cell_type": "markdown",
      "metadata": {
        "id": "view-in-github",
        "colab_type": "text"
      },
      "source": [
        "<a href=\"https://colab.research.google.com/github/MichaelColcol/CPEN-21A-CPE-1-1/blob/main/Lab1.ipynb\" target=\"_parent\"><img src=\"https://colab.research.google.com/assets/colab-badge.svg\" alt=\"Open In Colab\"/></a>"
      ]
    },
    {
      "cell_type": "markdown",
      "metadata": {
        "id": "MTT1EVdVYB1F"
      },
      "source": [
        "Labaratory 1"
      ]
    },
    {
      "cell_type": "code",
      "metadata": {
        "colab": {
          "base_uri": "https://localhost:8080/"
        },
        "id": "tY426bm8cXF9",
        "outputId": "3a3c1ea6-73d4-4242-ab07-6bf158aa1c99"
      },
      "source": [
        "a = \"Welcome to \"\n",
        "b = \"Python Programming\"\n",
        "c = a+b\n",
        "print(c)"
      ],
      "execution_count": 19,
      "outputs": [
        {
          "output_type": "stream",
          "name": "stdout",
          "text": [
            "Welcome to Python Programming\n"
          ]
        }
      ]
    },
    {
      "cell_type": "code",
      "metadata": {
        "colab": {
          "base_uri": "https://localhost:8080/"
        },
        "id": "fb1uAB0-X9Q-",
        "outputId": "6f23a3b3-ef0a-4864-8fec-a443b73a100b"
      },
      "source": [
        "Name = \"Michael S.Colcol\"\n",
        "Age = \"18 yrs old\"\n",
        "Address = \"Phase 2 Block 7 Lot 5,Mary Cris Complex,Pasong Camachille II, General Trias, Cavite\"\n",
        "\n",
        "print(\"I am \"\"\"+ Name)\n",
        "print(Age)\n",
        "print(\"from \"  + Address)"
      ],
      "execution_count": 42,
      "outputs": [
        {
          "output_type": "stream",
          "name": "stdout",
          "text": [
            "I am Michael S.Colcol\n",
            "18 yrs old\n",
            "from Phase 2 Block 7 Lot 5,Mary Cris Complex,Pasong Camachille II, General Trias, Cavite\n"
          ]
        }
      ]
    }
  ]
}