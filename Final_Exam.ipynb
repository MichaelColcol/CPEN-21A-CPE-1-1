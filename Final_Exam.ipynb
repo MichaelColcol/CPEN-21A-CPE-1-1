{
  "nbformat": 4,
  "nbformat_minor": 0,
  "metadata": {
    "colab": {
      "name": "Final Exam.ipynb",
      "provenance": [],
      "authorship_tag": "ABX9TyOQWztRMMEFXWmKwoWAXQCr",
      "include_colab_link": true
    },
    "kernelspec": {
      "name": "python3",
      "display_name": "Python 3"
    },
    "language_info": {
      "name": "python"
    }
  },
  "cells": [
    {
      "cell_type": "markdown",
      "metadata": {
        "id": "view-in-github",
        "colab_type": "text"
      },
      "source": [
        "<a href=\"https://colab.research.google.com/github/MichaelColcol/CPEN-21A-CPE-1-1/blob/main/Final_Exam.ipynb\" target=\"_parent\"><img src=\"https://colab.research.google.com/assets/colab-badge.svg\" alt=\"Open In Colab\"/></a>"
      ]
    },
    {
      "cell_type": "markdown",
      "source": [
        "###Problem Statement 1"
      ],
      "metadata": {
        "id": "FBWbLdFk_8n3"
      }
    },
    {
      "cell_type": "code",
      "execution_count": null,
      "metadata": {
        "id": "n7-ABaw__m5P",
        "colab": {
          "base_uri": "https://localhost:8080/"
        },
        "outputId": "577f0b77-e4dd-4c0c-8ad3-afa3ed39d123"
      },
      "outputs": [
        {
          "output_type": "stream",
          "name": "stdout",
          "text": [
            "The sum of ten numbers less than five is 4\n"
          ]
        }
      ],
      "source": [
        "Numbers = [-1, -2, -3, -4, -5, 0, 1, 2, 3, 4]\n",
        "for x in Numbers:\n",
        "  sum = x + 0\n",
        "print(\"The sum of ten numbers less than five is\", sum)\n"
      ]
    },
    {
      "cell_type": "markdown",
      "source": [
        "###Problem Statement 2"
      ],
      "metadata": {
        "id": "S66Bz-VhzEKg"
      }
    },
    {
      "cell_type": "code",
      "source": [
        "num = []\n",
        "\n",
        "while len(num) is not 5:\n",
        "    nums = int(input(\"number: \"))\n",
        "    num.append(nums)\n",
        "\n",
        "print(num)\n",
        "sum = num[1] + num[3]\n",
        "print(sum)"
      ],
      "metadata": {
        "id": "SxvHnhUU6je7",
        "colab": {
          "base_uri": "https://localhost:8080/"
        },
        "outputId": "c016e05d-6369-419f-e542-f72ae500749d"
      },
      "execution_count": 42,
      "outputs": [
        {
          "output_type": "stream",
          "name": "stdout",
          "text": [
            "number: 2\n",
            "number: 3\n",
            "number: 5\n",
            "number: 6\n",
            "number: 9\n",
            "[2, 3, 5, 6, 9]\n",
            "9\n"
          ]
        }
      ]
    },
    {
      "cell_type": "markdown",
      "source": [
        "###Problem Statement 3"
      ],
      "metadata": {
        "id": "6tB21JDT9KFG"
      }
    },
    {
      "cell_type": "code",
      "source": [
        "grade = x = ( int(input(\"Insert Your Grade: \")))\n",
        "\n",
        "if x >= 97:\n",
        "  print(\"You got A\")\n",
        "elif x >= 90:\n",
        "  print(\"You got B\")\n",
        "elif x >= 85:\n",
        "  print(\"You got C\")\n",
        "elif x >= 80:\n",
        "  print(\"You got D\")\n",
        "else:\n",
        "  print(\"F\")"
      ],
      "metadata": {
        "colab": {
          "base_uri": "https://localhost:8080/"
        },
        "id": "MNuKWxbA9NOO",
        "outputId": "f3e44e3c-1da5-4d5a-9c65-66bfdef733fd"
      },
      "execution_count": 67,
      "outputs": [
        {
          "output_type": "stream",
          "name": "stdout",
          "text": [
            "Insert Your Grade: 93\n",
            "You got B\n"
          ]
        }
      ]
    }
  ]
}