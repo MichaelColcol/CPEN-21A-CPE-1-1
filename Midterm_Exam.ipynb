{
  "nbformat": 4,
  "nbformat_minor": 0,
  "metadata": {
    "colab": {
      "name": "Midterm Exam.ipynb",
      "provenance": [],
      "authorship_tag": "ABX9TyM4kRZeSWHtQTlOa0DxP7p/",
      "include_colab_link": true
    },
    "kernelspec": {
      "name": "python3",
      "display_name": "Python 3"
    },
    "language_info": {
      "name": "python"
    }
  },
  "cells": [
    {
      "cell_type": "markdown",
      "metadata": {
        "id": "view-in-github",
        "colab_type": "text"
      },
      "source": [
        "<a href=\"https://colab.research.google.com/github/MichaelColcol/CPEN-21A-CPE-1-1/blob/main/Midterm_Exam.ipynb\" target=\"_parent\"><img src=\"https://colab.research.google.com/assets/colab-badge.svg\" alt=\"Open In Colab\"/></a>"
      ]
    },
    {
      "cell_type": "markdown",
      "metadata": {
        "id": "-MNtbHZbjOX0"
      },
      "source": [
        "####Problem statement 1\n"
      ]
    },
    {
      "cell_type": "code",
      "metadata": {
        "colab": {
          "base_uri": "https://localhost:8080/"
        },
        "id": "R-lo61bIib1N",
        "outputId": "b3ea059a-9756-4475-94ad-32725149309e"
      },
      "source": [
        "Fullname= \"Michael S. Colcol\"\n",
        "print(Fullname)"
      ],
      "execution_count": null,
      "outputs": [
        {
          "output_type": "stream",
          "name": "stdout",
          "text": [
            "Michael S. Colcol\n"
          ]
        }
      ]
    },
    {
      "cell_type": "code",
      "metadata": {
        "colab": {
          "base_uri": "https://localhost:8080/"
        },
        "id": "HgZLhIaIj5FL",
        "outputId": "62e07f6e-fc02-4927-b2f9-8a1bb6bf56ad"
      },
      "source": [
        "Studentnumber= \"202101789\"\n",
        "print(Studentnumber)"
      ],
      "execution_count": null,
      "outputs": [
        {
          "output_type": "stream",
          "name": "stdout",
          "text": [
            "202101789\n"
          ]
        }
      ]
    },
    {
      "cell_type": "code",
      "metadata": {
        "colab": {
          "base_uri": "https://localhost:8080/"
        },
        "id": "idIcNWpekY7r",
        "outputId": "5486d539-a065-4dc7-ff66-9c2ae1ed8544"
      },
      "source": [
        "Age = \"18 years old\"\n",
        "print(Age)"
      ],
      "execution_count": null,
      "outputs": [
        {
          "output_type": "stream",
          "name": "stdout",
          "text": [
            "18 years old\n"
          ]
        }
      ]
    },
    {
      "cell_type": "code",
      "metadata": {
        "colab": {
          "base_uri": "https://localhost:8080/"
        },
        "id": "BxB71wLEktfz",
        "outputId": "d22eaf2d-8f9b-4454-eaa9-75c5a3142bdd"
      },
      "source": [
        "Birthday= \"February 20,2003\"\n",
        "print(Birthday)"
      ],
      "execution_count": null,
      "outputs": [
        {
          "output_type": "stream",
          "name": "stdout",
          "text": [
            "February 20,2003\n"
          ]
        }
      ]
    },
    {
      "cell_type": "code",
      "metadata": {
        "colab": {
          "base_uri": "https://localhost:8080/"
        },
        "id": "I7CcLda8k7fr",
        "outputId": "5de4a6cb-aeae-4de7-bd2c-7b173e8c8bb7"
      },
      "source": [
        "Address= \"Phase 2 Block 7 Lot 5,MCC,Pasong Camachille II,General Trias,Cavite\"\n",
        "print(Address)"
      ],
      "execution_count": null,
      "outputs": [
        {
          "output_type": "stream",
          "name": "stdout",
          "text": [
            "Phase 2 Block 7 Lot 5,MCC,Pasong Camachille II,General Trias,Cavite\n"
          ]
        }
      ]
    },
    {
      "cell_type": "code",
      "metadata": {
        "colab": {
          "base_uri": "https://localhost:8080/"
        },
        "id": "Lpzf4P6xlHKD",
        "outputId": "3f52851f-36d7-467b-db57-784bea529afd"
      },
      "source": [
        "Course= \"Bachelor of Science In Computer Engineering\"\n",
        "print(Course)"
      ],
      "execution_count": null,
      "outputs": [
        {
          "output_type": "stream",
          "name": "stdout",
          "text": [
            "Bachelor of Science In Computer Engineering\n"
          ]
        }
      ]
    },
    {
      "cell_type": "code",
      "metadata": {
        "colab": {
          "base_uri": "https://localhost:8080/"
        },
        "id": "66q2fNLwlO7r",
        "outputId": "9aa16310-e933-44a7-8316-12defc42520f"
      },
      "source": [
        "LastsemGWA = \"97\" #Grade 12 GWA\n",
        "print(LastsemGWA)"
      ],
      "execution_count": null,
      "outputs": [
        {
          "output_type": "stream",
          "name": "stdout",
          "text": [
            "97\n"
          ]
        }
      ]
    },
    {
      "cell_type": "markdown",
      "metadata": {
        "id": "NDYFd4G3lhiD"
      },
      "source": [
        "#### Problem Statement 2\n"
      ]
    },
    {
      "cell_type": "code",
      "metadata": {
        "colab": {
          "base_uri": "https://localhost:8080/"
        },
        "id": "F9ZTFgLblpib",
        "outputId": "16e3c769-6cd5-42e6-ed46-92e63e0c9027"
      },
      "source": [
        "n = 4\n",
        "answ = \"Y\"\n",
        "\n",
        "print(2<n and n<6)\n",
        "print(2<n or n==6)\n",
        "print(not(2<n or n==6))\n",
        "print(not(n<6))\n",
        "print((answ==\"Y\") or (answ==\"y\"))\n",
        "print((answ==\"Y\") and (answ==\"y\"))\n",
        "print(not answ==\"y\")\n",
        "print((2<n) and (n==5+1) or (answ==\"No\"))\n",
        "print((n==2) and (n==7) or (answ==\"Y\"))\n",
        "print(((n==2) and (n==7)) or (answ==\"Y\"))\n"
      ],
      "execution_count": 2,
      "outputs": [
        {
          "output_type": "stream",
          "name": "stdout",
          "text": [
            "True\n",
            "True\n",
            "False\n",
            "False\n",
            "True\n",
            "False\n",
            "True\n",
            "False\n",
            "True\n",
            "True\n"
          ]
        }
      ]
    },
    {
      "cell_type": "code",
      "metadata": {
        "id": "GpVdUElOnVL1"
      },
      "source": [
        ""
      ],
      "execution_count": null,
      "outputs": []
    },
    {
      "cell_type": "markdown",
      "metadata": {
        "id": "BQlJl2eRrykf"
      },
      "source": [
        "####Problem statement 3\n"
      ]
    },
    {
      "cell_type": "code",
      "metadata": {
        "colab": {
          "base_uri": "https://localhost:8080/"
        },
        "id": "EO1BWLcZr1xH",
        "outputId": "2c0ba879-1966-42ad-881a-3a8ebe24def0"
      },
      "source": [
        "x=2\n",
        "y=-3\n",
        "w=7\n",
        "z= -10\n",
        "\n",
        "print(x/y)\n",
        "print(w/y/x)\n",
        "print(z/y%x)\n",
        "print(x%-y*w)\n",
        "print(x%y)\n",
        "print(z%w-y/x*5+5)\n",
        "print(9-x%(2+y))\n",
        "print(z//w)\n",
        "print((2+y)**2)\n",
        "print(w/x*2)"
      ],
      "execution_count": null,
      "outputs": [
        {
          "output_type": "stream",
          "name": "stdout",
          "text": [
            "-0.6666666666666666\n",
            "-1.1666666666666667\n",
            "1.3333333333333335\n",
            "14\n",
            "-1\n",
            "16.5\n",
            "9\n",
            "-2\n",
            "1\n",
            "7.0\n"
          ]
        }
      ]
    }
  ]
}